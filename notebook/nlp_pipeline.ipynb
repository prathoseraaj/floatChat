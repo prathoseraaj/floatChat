{
 "cells": [
  {
   "cell_type": "markdown",
   "id": "90a28c18",
   "metadata": {},
   "source": [
    "FIRST LLM APPROCH"
   ]
  },
  {
   "cell_type": "code",
   "execution_count": null,
   "id": "c325f0f5",
   "metadata": {},
   "outputs": [],
   "source": [
    "prompt = \"\"\"\n",
    "You are an expert NLU (Natural Language Understanding) engine for an oceanography chatbot named FloatChat.\n",
    "Your task is to analyze the user's query and convert it into a structured JSON object that represents a plan of action.\n",
    "The JSON object must contain a list of \"actions\" that our system can execute.\n",
    "\n",
    "## JSON Schema Definition\n",
    "Here are the available tools and their required parameters. You must strictly adhere to this schema.\n",
    "\n",
    "1.  **tool: \"plot_data\"**\n",
    "    * **description:** Generates a 2D plot of one variable against another. If the x-axis is not specified, assume it is 'PRES' (pressure).\n",
    "    * **parameters:** {{\n",
    "        \"variable_y\": \"The variable for the y-axis. Must be one of: 'TEMP' (for temperature) or 'PSAL' (for salinity).\",\n",
    "        \"variable_x\": \"The variable for the x-axis. Must be 'PRES'.\"\n",
    "        }}\n",
    "\n",
    "2.  **tool: \"get_value\"**\n",
    "    * **description:** Retrieves a specific value of a variable based on a condition.\n",
    "    * **parameters:** {{\n",
    "        \"variable\": \"The variable to find. Must be one of: 'TEMP' or 'PSAL'.\",\n",
    "        \"condition_variable\": \"The conditional variable. Must be 'PRES'.\",\n",
    "        \"condition_value\": \"The numeric value of the condition (e.g., 100 for 100 dbar).\"\n",
    "        }}\n",
    "\n",
    "3.  **tool: \"get_summary\"**\n",
    "    * **description:** Calculates a summary statistic for a given variable.\n",
    "    * **parameters:** {{\n",
    "        \"variable\": \"The variable to summarize. Must be one of: 'TEMP' or 'PSAL'.\",\n",
    "        \"metric\": \"The statistic to calculate. Must be one of: 'mean', 'max', 'min', 'std_dev'.\"\n",
    "        }}\n",
    "\n",
    "4.  **tool: \"greeting\"**\n",
    "    * **description:** Responds to a simple greeting from the user.\n",
    "    * **parameters:** {{}}\n",
    "\n",
    "---\n",
    "## Examples\n",
    "\n",
    "**Query:** \"Show me a plot of the temperature\"\n",
    "**JSON:**\n",
    "{{\n",
    "  \"actions\": [\n",
    "    {{\n",
    "      \"tool\": \"plot_data\",\n",
    "      \"parameters\": {{\n",
    "        \"variable_y\": \"TEMP\",\n",
    "        \"variable_x\": \"PRES\"\n",
    "      }}\n",
    "    }}\n",
    "  ]\n",
    "}}\n",
    "\n",
    "**Query:** \"What is the salinity at 250 dbar?\"\n",
    "**JSON:**\n",
    "{{\n",
    "  \"actions\": [\n",
    "    {{\n",
    "      \"tool\": \"get_value\",\n",
    "      \"parameters\": {{\n",
    "        \"variable\": \"PSAL\",\n",
    "        \"condition_variable\": \"PRES\",\n",
    "        \"condition_value\": 250\n",
    "      }}\n",
    "    }}\n",
    "  ]\n",
    "}}\n",
    "\n",
    "**Query:** \"plot temperature vs pressure and what is the average salinity\"\n",
    "**JSON:**\n",
    "{{\n",
    "  \"actions\": [\n",
    "    {{\n",
    "      \"tool\": \"plot_data\",\n",
    "      \"parameters\": {{\n",
    "        \"variable_y\": \"TEMP\",\n",
    "        \"variable_x\": \"PRES\"\n",
    "      }}\n",
    "    }},\n",
    "    {{\n",
    "      \"tool\": \"get_summary\",\n",
    "      \"parameters\": {{\n",
    "        \"variable\": \"PSAL\",\n",
    "        \"metric\": \"mean\"\n",
    "      }}\n",
    "    }}\n",
    "  ]\n",
    "}}\n",
    "---\n",
    "\n",
    "## Task\n",
    "Now, analyze the following user query and provide the JSON output.\n",
    "Do not add any explanations, introductory text, or markdown formatting like ```json. Your response must be only the JSON object itself.\n",
    "\n",
    "**Query:** \"{user_query}\"\n",
    "**JSON:**\n",
    "\"\"\""
   ]
  },
  {
   "cell_type": "code",
   "execution_count": 22,
   "id": "d01e6b21",
   "metadata": {},
   "outputs": [],
   "source": [
    "import google.generativeai as genai\n",
    "import os\n",
    "from dotenv import load_dotenv"
   ]
  },
  {
   "cell_type": "code",
   "execution_count": 23,
   "id": "def8da7a",
   "metadata": {},
   "outputs": [],
   "source": [
    "load_dotenv()\n",
    "gemini_api_key = os.getenv(\"gemini_api_key\")\n",
    "genai.configure(api_key=gemini_api_key)"
   ]
  },
  {
   "cell_type": "code",
   "execution_count": 24,
   "id": "5a8599cb",
   "metadata": {},
   "outputs": [],
   "source": [
    "def createjson(prompt):\n",
    "    model = genai.GenerativeModel(\"gemini-2.5-flash\")\n",
    "    response = model.generate_content(prompt)\n",
    "    \n",
    "    return response.text"
   ]
  },
  {
   "cell_type": "code",
   "execution_count": 25,
   "id": "9e1b7f82",
   "metadata": {},
   "outputs": [
    {
     "name": "stdout",
     "output_type": "stream",
     "text": [
      "{\n",
      "  \"actions\": [\n",
      "    {\n",
      "      \"tool\": \"plot_data\",\n",
      "      \"parameters\": {\n",
      "        \"variable_y\": \"PSAL\",\n",
      "        \"variable_x\": \"PRES\"\n",
      "      }\n",
      "    },\n",
      "    {\n",
      "      \"tool\": \"get_summary\",\n",
      "      \"parameters\": {\n",
      "        \"variable\": \"TEMP\",\n",
      "        \"metric\": \"max\"\n",
      "      }\n",
      "    },\n",
      "    {\n",
      "      \"tool\": \"get_value\",\n",
      "      \"parameters\": {\n",
      "        \"variable\": \"TEMP\",\n",
      "        \"condition_variable\": \"PRES\",\n",
      "        \"condition_value\": 400\n",
      "      }\n",
      "    }\n",
      "  ]\n",
      "}\n"
     ]
    }
   ],
   "source": [
    "print(createjson(prompt))"
   ]
  }
 ],
 "metadata": {
  "kernelspec": {
   "display_name": ".venv (3.12.3)",
   "language": "python",
   "name": "python3"
  },
  "language_info": {
   "codemirror_mode": {
    "name": "ipython",
    "version": 3
   },
   "file_extension": ".py",
   "mimetype": "text/x-python",
   "name": "python",
   "nbconvert_exporter": "python",
   "pygments_lexer": "ipython3",
   "version": "3.12.3"
  }
 },
 "nbformat": 4,
 "nbformat_minor": 5
}
